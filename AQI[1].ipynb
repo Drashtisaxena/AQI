{
  "nbformat": 4,
  "nbformat_minor": 0,
  "metadata": {
    "colab": {
      "provenance": []
    },
    "kernelspec": {
      "name": "python3",
      "display_name": "Python 3"
    },
    "language_info": {
      "name": "python"
    }
  },
  "cells": [
    {
      "cell_type": "code",
      "execution_count": null,
      "metadata": {
        "colab": {
          "base_uri": "https://localhost:8080/"
        },
        "id": "Qztx7uU19hlm",
        "outputId": "76f0e089-d870-4976-994a-59fc40447ec6"
      },
      "outputs": [
        {
          "output_type": "stream",
          "name": "stdout",
          "text": [
            "Looking in indexes: https://pypi.org/simple, https://us-python.pkg.dev/colab-wheels/public/simple/\n",
            "Requirement already satisfied: requests in /usr/local/lib/python3.8/dist-packages (2.25.1)\n",
            "Requirement already satisfied: chardet<5,>=3.0.2 in /usr/local/lib/python3.8/dist-packages (from requests) (4.0.0)\n",
            "Requirement already satisfied: urllib3<1.27,>=1.21.1 in /usr/local/lib/python3.8/dist-packages (from requests) (1.24.3)\n",
            "Requirement already satisfied: idna<3,>=2.5 in /usr/local/lib/python3.8/dist-packages (from requests) (2.10)\n",
            "Requirement already satisfied: certifi>=2017.4.17 in /usr/local/lib/python3.8/dist-packages (from requests) (2022.12.7)\n"
          ]
        }
      ],
      "source": [
        "!pip install requests"
      ]
    },
    {
      "cell_type": "code",
      "source": [
        "# PRE-REQUISITES - \n",
        "# 1. Install requests module in python using the command \"pip install requests\"\n",
        "# 2. Get your API Key from \"https://aqicn.org/api/vn/\"\n",
        "\n",
        "import requests\n",
        "\n",
        "# Function to retrive AQI\n",
        "def aqi_checker(city_name) :\n",
        "    \n",
        "    api_key = \"561aeff8e2fc76f3235dffdf50c40671b9a09007\"\n",
        "    url = f\"https://api.waqi.info/feed/{city_name}/?token={api_key}\"\n",
        "\n",
        "    response = requests.get(url)\n",
        "\n",
        "    # Check if the request was successful\n",
        "    if response.status_code == 200:\n",
        "        # Retrieve AQI data from the response\n",
        "        aqi_data = response.json()\n",
        "        aqi = aqi_data['data']['aqi']\n",
        "        return aqi\n",
        "    else:\n",
        "        return \"Failed to retrieve AQI data\"\n",
        "\n",
        "# Time retrival code \n",
        "def getTime(city_name) :\n",
        "    api_key = \"561aeff8e2fc76f3235dffdf50c40671b9a09007\"\n",
        "    url = f\"https://api.waqi.info/feed/{city_name}/?token={api_key}\"\n",
        "\n",
        "    response = requests.get(url)\n",
        "    time_data = response.json()\n",
        "    time = time_data['data']['time']['s']\n",
        "\n",
        "    return time\n",
        "\n",
        "# Driver Code\n",
        "\n",
        "city = input(\"Enter city name : \")\n",
        "aqi_val = aqi_checker(city)\n",
        "time_val = getTime(city)\n",
        "\n",
        "# AQI Classification\n",
        "if (aqi_val >= 0 and aqi_val <= 50) :\n",
        "    classification = \"Good\"\n",
        "elif (aqi_val > 50 and aqi_val <= 100) :\n",
        "    classification = \"Moderate\"\n",
        "elif (aqi_val > 100 and aqi_val <= 200):\n",
        "    classification = \"Unhealthy for Sensitive Groups\"\n",
        "elif (aqi_val > 200 and aqi_val <= 300):\n",
        "    classification = \"Unhelathy\"\n",
        "elif (aqi_val > 300 and aqi_val <= 400):\n",
        "    classification = \"Very Unhealthy\"\n",
        "elif (aqi_val > 400 and aqi_val <= 500):\n",
        "    classification = \"Hazardous\"\n",
        "\n",
        "# Output\n",
        "print(\"City : \", city)\n",
        "print(\"Date and Time : \", time_val)\n",
        "print(\"AQI : \", aqi_val)\n",
        "print(\"Category : \", classification)"
      ],
      "metadata": {
        "colab": {
          "base_uri": "https://localhost:8080/"
        },
        "id": "FCTmIgSZ-TvT",
        "outputId": "9201eccc-155e-4c0b-c8f4-6f688222515f"
      },
      "execution_count": null,
      "outputs": [
        {
          "output_type": "stream",
          "name": "stdout",
          "text": [
            "Enter city name : delhi\n",
            "City :  delhi\n",
            "Date and Time :  2023-02-05 15:00:00\n",
            "AQI :  104\n",
            "Category :  Unhealthy for Sensitive Groups\n"
          ]
        }
      ]
    }
  ]
}